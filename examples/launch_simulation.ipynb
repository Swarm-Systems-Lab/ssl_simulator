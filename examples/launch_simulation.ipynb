{
 "cells": [
  {
   "cell_type": "code",
   "execution_count": 2,
   "metadata": {},
   "outputs": [],
   "source": [
    "# Local installation for development\n",
    "# !pip install -e .. "
   ]
  },
  {
   "cell_type": "code",
   "execution_count": 1,
   "metadata": {},
   "outputs": [],
   "source": [
    "# Import standard libraries\n",
    "import os\n",
    "import sys\n",
    "\n",
    "# Third-Party Libraries\n",
    "import numpy as np\n",
    "\n",
    "# -------------------------------------------------------------------------------------\n",
    "# Import the Swarm Systems Lab Simulator\n",
    "import ssl_simulator\n",
    "\n",
    "from ssl_simulator import SimulationEngine, load_sim\n",
    "from ssl_simulator.robot_models import SingleIntegrator, Unicycle2D\n",
    "from ssl_simulator.controllers import ConstantSignal\n",
    "\n",
    "from ssl_simulator.visualization import set_paper_parameters\n",
    "set_paper_parameters(fontsize=12)\n",
    "\n",
    "# -------------------------------------------------------------------------------------\n",
    "# Import custom functions and classes\n",
    "from visualization import PlotBasic\n",
    "\n",
    "# -------------------------------------------------------------------------------------\n",
    "# Define constants for file paths\n",
    "OUTPUT_DIR = os.path.join(\"..\", \"output\")\n",
    "SIMDATA_FILE1 = os.path.join(OUTPUT_DIR, \"data1.csv\")\n",
    "SIMDATA_FILE2 = os.path.join(OUTPUT_DIR, \"data2.csv\")"
   ]
  },
  {
   "cell_type": "code",
   "execution_count": null,
   "metadata": {},
   "outputs": [],
   "source": [
    "dir(ssl_simulator)"
   ]
  },
  {
   "cell_type": "markdown",
   "metadata": {},
   "source": [
    "# Single integrator simulation"
   ]
  },
  {
   "cell_type": "code",
   "execution_count": null,
   "metadata": {},
   "outputs": [],
   "source": [
    "# ---- SI simulation example (run)\n",
    "\n",
    "# Define the initial state\n",
    "N = 5\n",
    "\n",
    "p = np.array([np.random.random(N), np.random.random(N)]).T\n",
    "\n",
    "x0 = [p]\n",
    "\n",
    "# Controller settings\n",
    "k = np.array([1,1])\n",
    "\n",
    "# --------------------------------\n",
    "# Select and initialize the robot model and the controller\n",
    "robot_model = SingleIntegrator(x0)\n",
    "controller = ConstantSignal(k)\n",
    "\n",
    "# Then, construct the Simulator Engine\n",
    "dt = 0.01\n",
    "simulator = SimulationEngine(robot_model, controller, time_step=dt, \n",
    "                             log_filename=SIMDATA_FILE1, log_time_step=0.1)\n",
    "\n",
    "# --------------------------------\n",
    "# Run the simulation and save data\n",
    "tf = 1\n",
    "simulator.run(tf)\n",
    "# --------------------------------"
   ]
  },
  {
   "cell_type": "code",
   "execution_count": null,
   "metadata": {},
   "outputs": [],
   "source": [
    "# ---- SI simulation plot\n",
    "\n",
    "# Load previously saved simulation data from the specified file\n",
    "simulation_data = load_sim(SIMDATA_FILE1, debug=True)\n",
    "# print(simulation_data[\"time\"])\n",
    "\n",
    "# Initialize the plotter with the loaded simulation data\n",
    "plotter = PlotBasic(simulation_data)\n",
    "\n",
    "# Generate and display the plot\n",
    "plotter.plot()"
   ]
  },
  {
   "cell_type": "markdown",
   "metadata": {},
   "source": [
    "# 2D Unicycle simulation"
   ]
  },
  {
   "cell_type": "code",
   "execution_count": null,
   "metadata": {},
   "outputs": [],
   "source": [
    "# ---- 2D Uny simulation example (run)\n",
    "\n",
    "# Define the initial state\n",
    "N = 5\n",
    "\n",
    "p = np.array([np.random.random(N), np.random.random(N)]).T\n",
    "speed = np.ones(N)\n",
    "theta = np.random.random(N) * np.pi\n",
    "\n",
    "\n",
    "x0 = [p, speed, theta]\n",
    "\n",
    "# --------------------------------\n",
    "# Select and initialize the robot model and the controller\n",
    "robot_model = Unicycle2D(x0)\n",
    "controller = ConstantSignal(np.pi/4)\n",
    "\n",
    "# Then, construct the Simulator Engine\n",
    "dt = 0.01\n",
    "simulator = SimulationEngine(robot_model, controller, time_step=dt, \n",
    "                             log_filename=SIMDATA_FILE2, log_time_step=0.05)\n",
    "\n",
    "# --------------------------------\n",
    "# Run the simulation and save data\n",
    "tf = 1\n",
    "simulator.run(tf)\n",
    "# --------------------------------"
   ]
  },
  {
   "cell_type": "code",
   "execution_count": null,
   "metadata": {},
   "outputs": [],
   "source": [
    "# ---- 2D Uny simulation plot\n",
    "\n",
    "# Load previously saved simulation data from the specified file\n",
    "simulation_data = load_sim(SIMDATA_FILE2, debug=True)\n",
    "\n",
    "# Initialize the plotter with the loaded simulation data\n",
    "plotter = PlotBasic(simulation_data)\n",
    "\n",
    "# Generate and display the plot\n",
    "plotter.plot()"
   ]
  }
 ],
 "metadata": {
  "kernelspec": {
   "display_name": "Python 3",
   "language": "python",
   "name": "python3"
  },
  "language_info": {
   "codemirror_mode": {
    "name": "ipython",
    "version": 3
   },
   "file_extension": ".py",
   "mimetype": "text/x-python",
   "name": "python",
   "nbconvert_exporter": "python",
   "pygments_lexer": "ipython3",
   "version": "3.10.12"
  }
 },
 "nbformat": 4,
 "nbformat_minor": 2
}
