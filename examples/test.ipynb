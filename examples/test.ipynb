{
 "cells": [
  {
   "cell_type": "code",
   "execution_count": 1,
   "metadata": {},
   "outputs": [],
   "source": [
    "import numpy as np\n",
    "import random"
   ]
  },
  {
   "cell_type": "code",
   "execution_count": 24,
   "metadata": {},
   "outputs": [
    {
     "name": "stdout",
     "output_type": "stream",
     "text": [
      "(1, 2, 5)\n",
      "(2, 5)\n",
      "[0.95949897 0.83677739 0.2276144  0.69430395 0.28885909] 0.6460609533632437 [[0.95949897 0.83677739 0.2276144  0.69430395 0.28885909]]\n"
     ]
    }
   ],
   "source": [
    "N = 5\n",
    "\n",
    "x = np.random.random(N)\n",
    "y = np.random.random(N)\n",
    "p = np.array([x,y])\n",
    "\n",
    "# Packing\n",
    "state = np.array([p])\n",
    "print(state.shape)\n",
    "\n",
    "# Unpacking\n",
    "p, = state\n",
    "print(p.shape)\n",
    "\n",
    "# Calculate\n",
    "u = np.array([1,2])\n",
    "\n",
    "p_new = p\n",
    "print(p_new.shape)\n",
    "\n",
    "print(p[0], y[0], state[:,0])"
   ]
  },
  {
   "cell_type": "code",
   "execution_count": null,
   "metadata": {},
   "outputs": [],
   "source": []
  }
 ],
 "metadata": {
  "kernelspec": {
   "display_name": "Python 3",
   "language": "python",
   "name": "python3"
  },
  "language_info": {
   "codemirror_mode": {
    "name": "ipython",
    "version": 3
   },
   "file_extension": ".py",
   "mimetype": "text/x-python",
   "name": "python",
   "nbconvert_exporter": "python",
   "pygments_lexer": "ipython3",
   "version": "3.10.12"
  }
 },
 "nbformat": 4,
 "nbformat_minor": 2
}
