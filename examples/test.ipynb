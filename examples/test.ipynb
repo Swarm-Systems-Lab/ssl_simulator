{
 "cells": [
  {
   "cell_type": "code",
   "execution_count": 1,
   "metadata": {},
   "outputs": [
    {
     "name": "stdout",
     "output_type": "stream",
     "text": [
      "(1, 2, 5)\n",
      "(2, 5)\n",
      "(2, 5)\n",
      "[0.8790354  0.68134946 0.75987443 0.7468428  0.92071609] 0.5561674990550582 [[0.8790354  0.68134946 0.75987443 0.7468428  0.92071609]]\n"
     ]
    }
   ],
   "source": [
    "import numpy as np\n",
    "N = 5\n",
    "\n",
    "x = np.random.random(N)\n",
    "y = np.random.random(N)\n",
    "p = np.array([x,y])\n",
    "\n",
    "# Packing\n",
    "state = np.array([p])\n",
    "print(state.shape)\n",
    "\n",
    "# Unpacking\n",
    "p, = state\n",
    "print(p.shape)\n",
    "\n",
    "# Calculate\n",
    "u = np.array([1,2])\n",
    "\n",
    "p_new = p\n",
    "print(p_new.shape)\n",
    "\n",
    "print(p[0], y[0], state[:,0])"
   ]
  },
  {
   "cell_type": "code",
   "execution_count": 2,
   "metadata": {},
   "outputs": [
    {
     "data": {
      "text/plain": [
       "array([[[1, 2, 3]]])"
      ]
     },
     "execution_count": 2,
     "metadata": {},
     "output_type": "execute_result"
    }
   ],
   "source": [
    "from ssl_simulator.math.basics import adapt_to_nd\n",
    "import numpy as np\n",
    "\n",
    "X = np.array([1.1,2,3])\n",
    "adapt_to_nd(X,3,int)"
   ]
  }
 ],
 "metadata": {
  "kernelspec": {
   "display_name": "Python 3",
   "language": "python",
   "name": "python3"
  },
  "language_info": {
   "codemirror_mode": {
    "name": "ipython",
    "version": 3
   },
   "file_extension": ".py",
   "mimetype": "text/x-python",
   "name": "python",
   "nbconvert_exporter": "python",
   "pygments_lexer": "ipython3",
   "version": "3.10.12"
  }
 },
 "nbformat": 4,
 "nbformat_minor": 2
}
